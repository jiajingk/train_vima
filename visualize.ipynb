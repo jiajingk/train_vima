{
 "cells": [
  {
   "cell_type": "code",
   "execution_count": 2,
   "metadata": {},
   "outputs": [],
   "source": [
    "from glob import glob\n",
    "import os\n",
    "import pandas as pd\n",
    "import matplotlib.pyplot as plt\n",
    "from typing import List, Tuple, Dict"
   ]
  },
  {
   "cell_type": "code",
   "execution_count": null,
   "metadata": {},
   "outputs": [],
   "source": [
    "train_csv_paths = list(glob(os.path.join('.', 'train_*.csv')))\n",
    "valid_csv_paths = list(glob(os.path.join('.', 'valid_*.csv')))\n",
    "assert len(train_csv_paths) > 0"
   ]
  },
  {
   "cell_type": "code",
   "execution_count": null,
   "metadata": {},
   "outputs": [],
   "source": [
    "df = pd.read_csv(train_csv_paths[0])"
   ]
  },
  {
   "cell_type": "code",
   "execution_count": null,
   "metadata": {},
   "outputs": [],
   "source": [
    "new_columns = {col: col.replace('validation__', '') for col in df.columns if col.startswith('validation__')}\n",
    "df = df.rename(columns=new_columns)"
   ]
  },
  {
   "cell_type": "code",
   "execution_count": null,
   "metadata": {},
   "outputs": [],
   "source": [
    "unweighted_sample_cols = [\n",
    "    str(col) for col in df.columns if 'unweigted_sample_loss' in col\n",
    "]"
   ]
  },
  {
   "cell_type": "code",
   "execution_count": null,
   "metadata": {},
   "outputs": [],
   "source": [
    "epochs = sorted(list(set(df.epoch_id)))\n",
    "epochs"
   ]
  },
  {
   "cell_type": "code",
   "execution_count": null,
   "metadata": {},
   "outputs": [],
   "source": [
    "unweighted_losses = []\n",
    "for i in epochs:\n",
    "    loss = df.loc[df.epoch_id == i].iloc[:, df.columns.isin(unweighted_sample_cols)].sum(axis=1).mean()\n",
    "    unweighted_losses.append(loss)\n",
    "plt.plot(unweighted_losses)"
   ]
  },
  {
   "cell_type": "code",
   "execution_count": null,
   "metadata": {},
   "outputs": [],
   "source": [
    "cols = list(df.columns)\n",
    "rotation_cols = list(col for col in cols if '_rotation_' in col and 'sample_loss' in col)\n",
    "position_cols = list(col for col in cols if '_position_' in col and 'sample_loss' in col)\n",
    "fig = plt.figure()\n",
    "mean_loss = df[rotation_cols + position_cols + ['epoch_id']].groupby('epoch_id').mean()\n",
    "ax = mean_loss.plot(ylabel='cross_entropy_loss')\n",
    "box = ax.get_position()\n",
    "ax.set_position([box.x0, box.y0, box.width * 0.8, box.height])\n",
    "ax.legend(loc='center left', bbox_to_anchor=(1, 0.5))"
   ]
  },
  {
   "cell_type": "code",
   "execution_count": null,
   "metadata": {},
   "outputs": [],
   "source": [
    "per_task_loss = df[rotation_cols + position_cols + ['task']].groupby('task').sum().sum(axis=1).sort_values()\n",
    "per_task_loss / per_task_loss.min()"
   ]
  },
  {
   "cell_type": "code",
   "execution_count": null,
   "metadata": {},
   "outputs": [],
   "source": []
  },
  {
   "cell_type": "markdown",
   "metadata": {},
   "source": [
    "Learning Rate"
   ]
  },
  {
   "cell_type": "code",
   "execution_count": null,
   "metadata": {},
   "outputs": [],
   "source": []
  },
  {
   "cell_type": "code",
   "execution_count": null,
   "metadata": {},
   "outputs": [],
   "source": [
    "import math \n",
    "from playground.typing import TrainParam, DatasetParam\n",
    "\n",
    "def get_lr_param():\n",
    "    return {\n",
    "        \"warmup_end_at_iters\": 7000,\n",
    "        \"flatten_end_at_iters\": 240000,\n",
    "        \"lr_decay_end_at_iters\": 960000,\n",
    "        \"learning_rate\": 1e-5,\n",
    "        \"min_lr\": 1e-7, \n",
    "    }\n",
    "\n",
    "\n",
    "def get_optimizer_param():\n",
    "    return {\n",
    "        \"clip_norm\": 1.0,\n",
    "        \"inital_lr\": get_lr_param()[\"learning_rate\"],\n",
    "        \"optimizer_name\": \"AdamW\",\n",
    "        \"weight_decay\": 0.0\n",
    "    }\n",
    "\n",
    "def get_dataset_param():\n",
    "    return  {\n",
    "        \"data_pct_usage\": 1.0,\n",
    "        \"total_data_size_per_task\": 40000,\n",
    "        \"validation_pct\": 0.00,\n",
    "        \"source\": \"s3://vima\",\n",
    "        \"tasks\": [\n",
    "            \"follow_order\",\n",
    "            \"manipulate_old_neighbor\",\n",
    "            \"novel_adj\",\n",
    "            \"novel_noun\",\n",
    "            \"pick_in_order_then_restore\",\n",
    "            \"rearrange_then_restore\",\n",
    "            \"rearrange\",\n",
    "            \"rotate\",\n",
    "            \"same_profile\",\n",
    "            \"scene_understanding\",\n",
    "            \"simple_manipulation\",\n",
    "            \"sweep_without_exceeding\",\n",
    "            \"twist\",\n",
    "        ]\n",
    "    }\n",
    "\n",
    "def get_train_param():\n",
    "    return {\n",
    "        \"model_size\": \"2M\",\n",
    "        \"total_epoch\": 50,\n",
    "        \"local_batch_size\": 128,\n",
    "        \"distributed\": False,\n",
    "    }\n",
    "def get_lr(it: int) -> float:\n",
    "    lr_param = get_lr_param()\n",
    "    warmup_iters = lr_param[\"warmup_end_at_iters\"]\n",
    "    flatten_iters = lr_param[\"flatten_end_at_iters\"]\n",
    "    learning_rate = lr_param[\"learning_rate\"]\n",
    "    lr_decay_iters = lr_param[\"lr_decay_end_at_iters\"]\n",
    "    min_lr = lr_param[\"min_lr\"]\n",
    "    if it < warmup_iters:\n",
    "        return learning_rate * it / warmup_iters\n",
    "    if warmup_iters <= it < flatten_iters:\n",
    "        return learning_rate\n",
    "    if it > lr_decay_iters:\n",
    "        return min_lr\n",
    "    decay_ratio = (it - flatten_iters) / (lr_decay_iters - flatten_iters)\n",
    "    assert 0 <= decay_ratio <= 1, f\"{decay_ratio = }, {it = }\"\n",
    "    coeff = 0.5 * (1.0 + math.cos(math.pi * decay_ratio))\n",
    "    return min_lr + coeff * (learning_rate - min_lr)\n",
    "\n",
    "\n",
    "def get_batch_per_epoch(\n",
    "        dataset_param: DatasetParam,\n",
    "        train_param: TrainParam,\n",
    "        is_train: bool = True\n",
    "    ):\n",
    "    if is_train:\n",
    "        scaling = 1.0\n",
    "    else:\n",
    "        scaling = dataset_param[\"validation_pct\"]\n",
    "    epoch_size = ( \n",
    "        int(\n",
    "            dataset_param[\"total_data_size_per_task\"] \n",
    "            * scaling \n",
    "            * len(dataset_param[\"tasks\"]\n",
    "        ) \n",
    "        * dataset_param[\"data_pct_usage\"]) \n",
    "    )\n",
    "    batch_size = (\n",
    "        train_param[\"local_batch_size\"] \n",
    "            if train_param[\"distributed\"] is False \n",
    "            else train_param[\"local_batch_size\"] * 1\n",
    "    )\n",
    "    if epoch_size % batch_size != 0:\n",
    "        return epoch_size // batch_size + 1\n",
    "    return epoch_size // batch_size\n",
    "\n",
    "def get_total_batch_count(\n",
    "        dataset_param: DatasetParam,\n",
    "        train_param: TrainParam,\n",
    "        batch_id: int, \n",
    "        epoch_id: int,\n",
    "        is_train: bool = True\n",
    "    ) -> int:\n",
    "    batch_count_per_epoch = get_batch_per_epoch(dataset_param, train_param, is_train)\n",
    "    current_total_batch_count = batch_id + epoch_id * batch_count_per_epoch\n",
    "    return current_total_batch_count\n",
    "\n",
    "def measure_lr(\n",
    "        dataset_param: DatasetParam,\n",
    "        train_param: TrainParam,\n",
    "        batch_id: int, \n",
    "        epoch_id: int\n",
    "    ):\n",
    "    current_total_batch_count = get_total_batch_count(\n",
    "        dataset_param, \n",
    "        train_param, \n",
    "        batch_id, \n",
    "        epoch_id, \n",
    "        is_train=True\n",
    "    )\n",
    "    return get_lr(current_total_batch_count)"
   ]
  },
  {
   "cell_type": "code",
   "execution_count": null,
   "metadata": {},
   "outputs": [],
   "source": [
    "def get_lrs():\n",
    "    lrs = []\n",
    "    for epoch_id in range(get_train_param()[\"total_epoch\"]):\n",
    "        for batch_id in range(\n",
    "            get_batch_per_epoch(\n",
    "                get_dataset_param(),\n",
    "                get_train_param(),\n",
    "            )\n",
    "        ):\n",
    "            lrs.append(\n",
    "                measure_lr(\n",
    "                    get_dataset_param(),\n",
    "                    get_train_param(),\n",
    "                    batch_id,\n",
    "                    epoch_id\n",
    "                )\n",
    "            )\n",
    "    return lrs"
   ]
  },
  {
   "cell_type": "code",
   "execution_count": null,
   "metadata": {},
   "outputs": [],
   "source": [
    "lrs = get_lrs()\n",
    "print(len(lrs))\n",
    "_ = plt.plot(lrs)"
   ]
  },
  {
   "cell_type": "markdown",
   "metadata": {},
   "source": [
    "Eval Result"
   ]
  },
  {
   "cell_type": "code",
   "execution_count": 103,
   "metadata": {},
   "outputs": [],
   "source": [
    "df = pd.read_csv('eval_2M_run.csv')"
   ]
  },
  {
   "cell_type": "code",
   "execution_count": 105,
   "metadata": {},
   "outputs": [],
   "source": [
    "def calc_success_rate(df):\n",
    "    task_ids = {\n",
    "        \"visual_manipulation\": \"01\",\n",
    "        \"scene_understanding\": \"02\",\n",
    "        \"rotate\": \"03\",\n",
    "        \"rearrange\": \"04\",\n",
    "        \"rearrange_then_restore\": \"05\",\n",
    "        \"novel_adj\": \"06\",\n",
    "        \"novel_noun\": \"07\",\n",
    "        \"novel_adj_and_noun\": \"08\",\n",
    "        \"twist\": \"09\",\n",
    "        \"follow_motion\": \"10\",\n",
    "        \"follow_order\": \"11\",\n",
    "        \"sweep_without_exceeding\": \"12\",\n",
    "        \"sweep_without_touching\": \"13\",\n",
    "        \"same_texture\": \"14\",\n",
    "        \"same_shape\": \"15\",\n",
    "        \"manipulate_old_neighbor\": \"16\",\n",
    "        \"pick_in_order_then_restore\": \"17\"\n",
    "    }\n",
    "    return {\n",
    "        task_ids[group.iloc[0]['task']]: round(float(group[['sucess']].mean().iloc[0] * 100), 1)\n",
    "            for _, group in df.groupby('task')\n",
    "    }\n",
    "\n",
    "eval_success_rates = calc_success_rate(df)"
   ]
  },
  {
   "cell_type": "code",
   "execution_count": 106,
   "metadata": {},
   "outputs": [
    {
     "data": {
      "text/plain": [
       "[('01', 30.0),\n",
       " ('02', 47.0),\n",
       " ('03', 44.0),\n",
       " ('04', 24.0),\n",
       " ('05', 6.0),\n",
       " ('06', 34.0),\n",
       " ('07', 34.0),\n",
       " ('09', 9.0),\n",
       " ('11', 86.0),\n",
       " ('12', 42.0),\n",
       " ('15', 10.0),\n",
       " ('16', 47.0),\n",
       " ('17', 2.0)]"
      ]
     },
     "execution_count": 106,
     "metadata": {},
     "output_type": "execute_result"
    }
   ],
   "source": [
    "sorted(list(eval_success_rates.items()))"
   ]
  },
  {
   "cell_type": "code",
   "execution_count": 107,
   "metadata": {},
   "outputs": [
    {
     "data": {
      "text/plain": [
       "31.923076923076923"
      ]
     },
     "execution_count": 107,
     "metadata": {},
     "output_type": "execute_result"
    }
   ],
   "source": [
    "sum(eval_success_rates.values()) / len(eval_success_rates)"
   ]
  },
  {
   "cell_type": "code",
   "execution_count": 93,
   "metadata": {},
   "outputs": [],
   "source": [
    "all_results = glob(os.path.join('remote_eval', 'result', '*.csv'))\n",
    "all_results = {\n",
    "    epoch: path for epoch, path in \n",
    "    zip(\n",
    "        map(\n",
    "            lambda x: int(os.path.basename(x).split('_')[3]),\n",
    "            all_results\n",
    "        ),\n",
    "        all_results\n",
    "    ) \n",
    "}\n",
    "def parse_eval_csv(payload):\n",
    "    epoch, path = payload\n",
    "    return epoch, calc_success_rate(pd.read_csv(path))\n",
    "success_rate_trace = list(map(\n",
    "    parse_eval_csv,\n",
    "    list(sorted(all_results.items()))\n",
    "))"
   ]
  },
  {
   "cell_type": "code",
   "execution_count": 65,
   "metadata": {},
   "outputs": [],
   "source": [
    "def extract_single_success(task_id: str, trace: List[Tuple[int, Dict[str, float]]]):\n",
    "    return ( \n",
    "        list(x[0] for x in trace),\n",
    "        list(x[1][task_id] for x in trace)\n",
    "    )\n",
    "        \n",
    "def extract_avg_success(trace: List[Tuple[int, Dict[str, float]]]):\n",
    "    return ( \n",
    "        list(x[0] for x in trace),\n",
    "        list(sum(x[1].values()) / len(x[1]) for x in trace)\n",
    "    )"
   ]
  },
  {
   "cell_type": "code",
   "execution_count": 97,
   "metadata": {},
   "outputs": [
    {
     "data": {
      "text/plain": [
       "[2.0, 1.0, 5.0, 4.0, 2.0, 3.0, 5.0, 1.0, 3.0, 1.0, 1.0]"
      ]
     },
     "execution_count": 97,
     "metadata": {},
     "output_type": "execute_result"
    },
    {
     "data": {
      "image/png": "[encoded data removed]",
      "text/plain": [
       "<Figure size 640x480 with 1 Axes>"
      ]
     },
     "metadata": {},
     "output_type": "display_data"
    }
   ],
   "source": [
    "xs, ys = extract_single_success(\"17\", success_rate_trace)\n",
    "def decide(i):\n",
    "    if i < 45:\n",
    "        return 'b'\n",
    "    elif 45 <= i <= 55:\n",
    "        return 'g'\n",
    "    return 'r'\n",
    "colors = [decide(x) for x in xs]\n",
    "_ = plt.scatter(xs, ys, color=colors)\n",
    "ys[-11:]"
   ]
  },
  {
   "cell_type": "code",
   "execution_count": 98,
   "metadata": {},
   "outputs": [
    {
     "name": "stdout",
     "output_type": "stream",
     "text": [
      "[63.61538461538461, 66.3076923076923, 64.84615384615384, 65.3076923076923, 64.76923076923077, 65.38461538461539, 65.23076923076923, 65.46153846153847, 65.15384615384616, 63.38461538461539, 65.92307692307692]\n"
     ]
    },
    {
     "data": {
      "image/png": "[encoded data removed]",
      "text/plain": [
       "<Figure size 640x480 with 1 Axes>"
      ]
     },
     "metadata": {},
     "output_type": "display_data"
    }
   ],
   "source": [
    "xs, ys = extract_avg_success(success_rate_trace)\n",
    "plt.xlabel('epoch')\n",
    "plt.ylabel('success rate')\n",
    "def decide(i):\n",
    "    if i < 45:\n",
    "        return 'b'\n",
    "    elif 45 <= i <= 55:\n",
    "        return 'g'\n",
    "    return 'r'\n",
    "\n",
    "colors = [decide(x) for x in xs]\n",
    "_ = plt.scatter(xs, ys, color=colors)\n",
    "print(ys[-11:])"
   ]
  },
  {
   "cell_type": "markdown",
   "metadata": {},
   "source": [
    "Evalution"
   ]
  },
  {
   "cell_type": "code",
   "execution_count": null,
   "metadata": {},
   "outputs": [],
   "source": [
    "import pandas as pd\n",
    "import glob\n",
    "\n",
    "\n",
    "mode = 'train'\n",
    "file_pattern = f'logs\\\\{mode}_*.csv'\n",
    "csv_files = glob.glob(file_pattern)\n",
    "dataframes = [pd.read_csv(file) for file in csv_files]\n",
    "solution_df = pd.concat(dataframes, ignore_index=True)"
   ]
  },
  {
   "cell_type": "code",
   "execution_count": null,
   "metadata": {},
   "outputs": [],
   "source": [
    "loss_cols = [col for col in df.columns if 'unweigted_sample_loss' in col]\n",
    "position_loss_cols = [col for col in loss_cols if 'position' in col]\n",
    "rotation_loss_cols = [col for col in loss_cols if 'rotation' in col]"
   ]
  },
  {
   "cell_type": "code",
   "execution_count": null,
   "metadata": {},
   "outputs": [],
   "source": [
    "rename = {\n",
    "    old_col_name: old_col_name.replace(\"unweigted_sample_loss__\", \"\") \n",
    "        for old_col_name in loss_cols\n",
    "}\n",
    "df[loss_cols].rename(columns=rename).describe()"
   ]
  },
  {
   "cell_type": "code",
   "execution_count": null,
   "metadata": {},
   "outputs": [],
   "source": [
    "for task_name, task_df in df[position_loss_cols + ['task']].groupby('task'):\n",
    "    rename = {\n",
    "        old_col_name: old_col_name.replace(\"unweigted_sample_loss__\", \"\") \n",
    "            for old_col_name in position_loss_cols\n",
    "    }\n",
    "    print(task_name)\n",
    "    print(task_df[position_loss_cols].rename(columns=rename).describe())\n",
    "    print(\"=============\")"
   ]
  },
  {
   "cell_type": "code",
   "execution_count": null,
   "metadata": {},
   "outputs": [],
   "source": [
    "df['sum_loss'] = df[position_loss_cols].sum(axis=1)\n",
    "df.groupby('task')['sum_loss'].describe().T.columns"
   ]
  },
  {
   "cell_type": "code",
   "execution_count": null,
   "metadata": {},
   "outputs": [],
   "source": []
  },
  {
   "cell_type": "markdown",
   "metadata": {},
   "source": []
  },
  {
   "cell_type": "code",
   "execution_count": 99,
   "metadata": {},
   "outputs": [],
   "source": [
    "import pandas as pd\n",
    "import glob\n",
    "import os\n",
    "from typing import List, Literal, Callable"
   ]
  },
  {
   "cell_type": "code",
   "execution_count": 100,
   "metadata": {},
   "outputs": [],
   "source": [
    "\n",
    "mode = 'train'\n",
    "i = 55\n",
    "    \n",
    "file_pattern = f'logs_2024_06_01\\\\{mode}_{i}_*.csv'\n",
    "csv_files = glob.glob(file_pattern)\n",
    "dataframes = [pd.read_csv(file) for file in csv_files]\n",
    "df = pd.concat(dataframes, ignore_index=True)"
   ]
  },
  {
   "cell_type": "code",
   "execution_count": 101,
   "metadata": {},
   "outputs": [],
   "source": [
    "loss_cols = [col for col in df.columns if 'unweigted_sample_loss' in col]\n",
    "position_loss_cols = [col for col in loss_cols if 'position' in col]\n",
    "rotation_loss_cols = [col for col in loss_cols if 'rotation' in col]"
   ]
  },
  {
   "cell_type": "code",
   "execution_count": 102,
   "metadata": {},
   "outputs": [
    {
     "data": {
      "text/plain": [
       "Index(['pose0_position_0', 'pose0_position_1', 'pose1_position_0',\n",
       "       'pose1_position_1', 'pose0_rotation_0', 'pose0_rotation_1',\n",
       "       'pose0_rotation_2', 'pose0_rotation_3', 'pose1_rotation_0',\n",
       "       'pose1_rotation_1', 'pose1_rotation_2', 'pose1_rotation_3'],\n",
       "      dtype='object')"
      ]
     },
     "execution_count": 102,
     "metadata": {},
     "output_type": "execute_result"
    }
   ],
   "source": [
    "rename = {\n",
    "    old_col_name: old_col_name.replace(\"unweigted_sample_loss__\", \"\") \n",
    "        for old_col_name in loss_cols\n",
    "}\n",
    "df[loss_cols].rename(columns=rename).describe().columns"
   ]
  },
  {
   "cell_type": "code",
   "execution_count": 5,
   "metadata": {},
   "outputs": [],
   "source": [
    "exps = set(\n",
    "    [\n",
    "        str(os.path.basename(file_path))\n",
    "        .split('.')[0]\n",
    "        .split('_')[2] \n",
    "            for file_path in glob.glob('logs/*.csv')\n",
    "    ]\n",
    ")"
   ]
  },
  {
   "cell_type": "code",
   "execution_count": 104,
   "metadata": {},
   "outputs": [],
   "source": [
    "def get_trace_paths(\n",
    "        exp_id: str, \n",
    "        mode: str\n",
    "    ):\n",
    "    return [\n",
    "        exp\n",
    "            for exp in sorted(\n",
    "                glob.glob(f'logs/{mode}_*_{exp_id}.csv'),\n",
    "                key = lambda x: int(x.split('_')[1])\n",
    "            )\n",
    "    ]\n",
    "\n",
    "def trace_epoch(\n",
    "        exp_id: str, \n",
    "        mode: str = 'train'\n",
    "    ) -> List[pd.DataFrame]:\n",
    "    return [\n",
    "        pd.read_csv(exp)\n",
    "            for exp in \n",
    "                get_trace_paths(exp_id, mode)\n",
    "    ]\n",
    "\n",
    "def trace_ddp(exp_ids: List[str], epoch: int, mode: str = 'train') -> pd.DataFrame:\n",
    "    exp_paths = [\n",
    "        os.path.join('logs', f'{mode}_{epoch}_{exp_id}.csv') for exp_id in exp_ids\n",
    "    ]\n",
    "    exp_paths = filter(lambda x: os.path.exists(x), exp_paths)\n",
    "    dataframes = [\n",
    "        pd.read_csv(exp_path) for exp_path in exp_paths\n",
    "    ]\n",
    "    df = pd.concat(dataframes, ignore_index=True)\n",
    "    return df\n"
   ]
  },
  {
   "cell_type": "code",
   "execution_count": null,
   "metadata": {},
   "outputs": [],
   "source": [
    "dfs = [\n",
    "    trace_ddp(exps, i, 'train') for i in range(30)\n",
    "]"
   ]
  },
  {
   "cell_type": "code",
   "execution_count": 105,
   "metadata": {},
   "outputs": [],
   "source": [
    "Aggregator = Literal['count', 'mean', 'std', 'min', '25%', '50%', '75%', 'max']\n",
    "Transform = Callable[[pd.DataFrame], pd.DataFrame]\n",
    "def measure(\n",
    "        df: pd.DataFrame, \n",
    "        transform: Transform, \n",
    "        attr: str, \n",
    "        aggr: Aggregator\n",
    "    ) -> float:\n",
    "    df = transform(df)\n",
    "    describe = df.describe()\n",
    "    if attr not in describe.columns:\n",
    "        describe = describe.T\n",
    "    return describe[attr][aggr]\n",
    "    "
   ]
  },
  {
   "cell_type": "code",
   "execution_count": 106,
   "metadata": {},
   "outputs": [],
   "source": [
    "attributes = [\n",
    "    'pose0_position_0', 'pose0_position_1', 'pose1_position_0',\n",
    "    'pose1_position_1', 'pose0_rotation_0', 'pose0_rotation_1',\n",
    "    'pose0_rotation_2', 'pose0_rotation_3', 'pose1_rotation_0',\n",
    "    'pose1_rotation_1', 'pose1_rotation_2', 'pose1_rotation_3'\n",
    "]\n",
    "tasks = [\n",
    "    'follow_order', 'manipulate_old_neighbor', 'novel_adj', 'novel_noun',\n",
    "    'pick_in_order_then_restore', 'rearrange', 'rearrange_then_restore',\n",
    "    'rotate', 'same_profile', 'scene_understanding', 'simple_manipulation',\n",
    "    'sweep_without_exceeding', 'twist'\n",
    "]"
   ]
  },
  {
   "cell_type": "code",
   "execution_count": 107,
   "metadata": {},
   "outputs": [],
   "source": [
    "def per_attr_transform(df: pd.DataFrame) -> pd.DataFrame:\n",
    "    loss_cols = [col for col in df.columns if 'unweigted_sample_loss' in col]\n",
    "    rename = {\n",
    "        old_col_name: old_col_name.replace(\"unweigted_sample_loss__\", \"\") \n",
    "            for old_col_name in loss_cols\n",
    "    }\n",
    "    return df[loss_cols].rename(columns=rename)"
   ]
  },
  {
   "cell_type": "code",
   "execution_count": null,
   "metadata": {},
   "outputs": [],
   "source": [
    "measure(solution_df, per_attr_transform, 'pose0_position_0', 'mean')"
   ]
  },
  {
   "cell_type": "code",
   "execution_count": 108,
   "metadata": {},
   "outputs": [
    {
     "name": "stdout",
     "output_type": "stream",
     "text": [
      "pose0_position_0 2.319859176658847\n",
      "pose0_position_1 2.4302724119585384\n",
      "pose1_position_0 2.2466603647574326\n",
      "pose1_position_1 2.3344897256031594\n",
      "pose0_rotation_0 1.1462430731075284e-12\n",
      "pose0_rotation_1 0.0\n",
      "pose0_rotation_2 0.0\n",
      "pose0_rotation_3 0.0\n",
      "pose1_rotation_0 0.0\n",
      "pose1_rotation_1 0.0\n",
      "pose1_rotation_2 0.11291530212806233\n",
      "pose1_rotation_3 0.11287646769678764\n"
     ]
    }
   ],
   "source": [
    "for attr in attributes:\n",
    "    print(attr, measure(df, per_attr_transform, attr, 'mean'))"
   ]
  },
  {
   "cell_type": "code",
   "execution_count": 110,
   "metadata": {},
   "outputs": [],
   "source": [
    "def per_task_transform(df: pd.DataFrame) -> pd.DataFrame:\n",
    "    df = df.copy()\n",
    "    loss_cols = [col for col in df.columns if 'unweigted_sample_loss' in col]\n",
    "    df['sum_loss'] = df[loss_cols].sum(axis=1)\n",
    "    return df.groupby('task')['sum_loss']"
   ]
  },
  {
   "cell_type": "code",
   "execution_count": 111,
   "metadata": {},
   "outputs": [
    {
     "name": "stdout",
     "output_type": "stream",
     "text": [
      "follow_order 8.897337191453577\n",
      "manipulate_old_neighbor 9.120208774134516\n",
      "novel_adj 10.706672227281333\n",
      "novel_noun 10.198537923327088\n",
      "pick_in_order_then_restore 10.177856309396029\n",
      "rearrange 9.809309262961149\n",
      "rearrange_then_restore 10.384529808747768\n",
      "rotate 9.961833149101391\n",
      "same_profile 9.705079884666205\n",
      "scene_understanding 10.209542918363214\n",
      "simple_manipulation 9.587547555831074\n",
      "sweep_without_exceeding 2.4007242003488747\n",
      "twist 13.082775628839434\n"
     ]
    }
   ],
   "source": [
    "for task in tasks:\n",
    "    print(task, measure(\n",
    "        df, \n",
    "        per_task_transform, \n",
    "        task, \n",
    "        'mean'))"
   ]
  },
  {
   "cell_type": "code",
   "execution_count": null,
   "metadata": {},
   "outputs": [],
   "source": [
    "\n",
    "for task in attributes:\n",
    "    print(task, measure(\n",
    "        solution_df.loc[\n",
    "            (solution_df['unweigted_sample_loss__pose0_position_0'] < 3.9) &\n",
    "            (solution_df['unweigted_sample_loss__pose0_position_1'] < 4.6) &\n",
    "            (solution_df['unweigted_sample_loss__pose1_position_0'] < 3.9) &\n",
    "            (solution_df['unweigted_sample_loss__pose1_position_1'] < 4.6) &\n",
    "            (solution_df['unweigted_sample_loss__pose0_rotation_0'] < 3.9) &\n",
    "            (solution_df['unweigted_sample_loss__pose0_rotation_1'] < 3.9) &\n",
    "            (solution_df['unweigted_sample_loss__pose0_rotation_2'] < 3.9) &\n",
    "            (solution_df['unweigted_sample_loss__pose0_rotation_3'] < 3.9) &\n",
    "            (solution_df['unweigted_sample_loss__pose1_rotation_0'] < 3.9) &\n",
    "            (solution_df['unweigted_sample_loss__pose1_rotation_1'] < 3.9) &\n",
    "            (solution_df['unweigted_sample_loss__pose1_rotation_2'] < 3.9) &\n",
    "            (solution_df['unweigted_sample_loss__pose1_rotation_3'] < 3.9) \n",
    "        ], \n",
    "        per_attr_transform, \n",
    "        task, \n",
    "        'mean'))"
   ]
  },
  {
   "cell_type": "code",
   "execution_count": null,
   "metadata": {},
   "outputs": [],
   "source": [
    "measure(solution_df, per_task_transform, 'follow_order', 'mean')"
   ]
  },
  {
   "cell_type": "code",
   "execution_count": null,
   "metadata": {},
   "outputs": [],
   "source": [
    "follow_order = [measure(df, per_task_transform, 'follow_order', 'mean') for df in dfs]\n",
    "follow_order"
   ]
  },
  {
   "cell_type": "markdown",
   "metadata": {},
   "source": [
    "### Trace Accu"
   ]
  },
  {
   "cell_type": "code",
   "execution_count": 15,
   "metadata": {},
   "outputs": [],
   "source": [
    "import pandas as pd\n",
    "from functools import partial"
   ]
  },
  {
   "cell_type": "code",
   "execution_count": 16,
   "metadata": {},
   "outputs": [],
   "source": [
    "df = pd.read_csv('eval_2M_official_release.csv')"
   ]
  },
  {
   "cell_type": "code",
   "execution_count": 17,
   "metadata": {},
   "outputs": [],
   "source": [
    "\n",
    "def per_trace_accu(row: pd.Series, col: str, threshold: float) -> float:\n",
    "    correct_trace: List[int] = []\n",
    "    for t_step in range(10):\n",
    "        ground_truth = row.loc[f'action_trace__{t_step}__oracle_action__{col}']\n",
    "        prediction = row.loc[f'action_trace__{t_step}__policy_action__{col}']\n",
    "        if pd.isna(ground_truth) and pd.isna(prediction):\n",
    "            break\n",
    "        if pd.isna(ground_truth) or pd.isna(prediction):\n",
    "            correct_trace.append(0)\n",
    "            continue\n",
    "        \n",
    "        correct_trace.append(int(abs(ground_truth - prediction) <= threshold))\n",
    "    if len(correct_trace) < 0:\n",
    "        return 0\n",
    "    return sum(correct_trace) / len(correct_trace)\n",
    "\n",
    "        "
   ]
  },
  {
   "cell_type": "code",
   "execution_count": 115,
   "metadata": {},
   "outputs": [],
   "source": [
    "attributes = [\n",
    "    'pose0_position_0', 'pose0_position_1', 'pose1_position_0',\n",
    "    'pose1_position_1', 'pose0_rotation_0', 'pose0_rotation_1',\n",
    "    'pose0_rotation_2', 'pose0_rotation_3', 'pose1_rotation_0',\n",
    "    'pose1_rotation_1', 'pose1_rotation_2', 'pose1_rotation_3'\n",
    "]"
   ]
  },
  {
   "cell_type": "code",
   "execution_count": 116,
   "metadata": {},
   "outputs": [],
   "source": [
    "accus = {\n",
    "    attribute: df.apply(partial(per_trace_accu, col=attribute, threshold=0), axis=1).mean()\n",
    "    for attribute in attributes \n",
    "}"
   ]
  },
  {
   "cell_type": "code",
   "execution_count": 117,
   "metadata": {},
   "outputs": [
    {
     "data": {
      "text/plain": [
       "(0.383246336996337, 0.682220695970696)"
      ]
     },
     "execution_count": 117,
     "metadata": {},
     "output_type": "execute_result"
    }
   ],
   "source": [
    "position_accus = [accus[key] for key in accus if 'position' in key]\n",
    "rotation_accus = [accus[key] for key in accus if 'rotation' in key]\n",
    "sum(position_accus) / len(position_accus),  sum(rotation_accus) / len(rotation_accus),"
   ]
  },
  {
   "cell_type": "code",
   "execution_count": 32,
   "metadata": {},
   "outputs": [
    {
     "data": {
      "text/plain": [
       "(0.383246336996337, 0.682220695970696)"
      ]
     },
     "execution_count": 32,
     "metadata": {},
     "output_type": "execute_result"
    }
   ],
   "source": [
    "position_accus = [accus[key] for key in accus if 'position' in key]\n",
    "rotation_accus = [accus[key] for key in accus if 'rotation' in key]\n",
    "sum(position_accus) / len(position_accus),  sum(rotation_accus) / len(rotation_accus),"
   ]
  },
  {
   "cell_type": "code",
   "execution_count": 40,
   "metadata": {},
   "outputs": [
    {
     "name": "stdout",
     "output_type": "stream",
     "text": [
      "pose0_position_0 0.7446236263736263\n",
      "pose0_position_1 0.6785747863247863\n",
      "pose1_position_0 0.7944786324786326\n",
      "pose1_position_1 0.6783711843711844\n",
      "pose0_rotation_0 0.9973076923076923\n",
      "pose0_rotation_1 0.9973076923076923\n",
      "pose0_rotation_2 0.9973076923076923\n",
      "pose0_rotation_3 0.9973076923076923\n",
      "pose1_rotation_0 0.9973076923076923\n",
      "pose1_rotation_1 0.9973076923076923\n",
      "pose1_rotation_2 0.449815934065934\n",
      "pose1_rotation_3 0.30845482295482296\n"
     ]
    }
   ],
   "source": [
    "for attribute in attributes:\n",
    "    print(attribute, df.apply(partial(per_trace_accu, col=attribute, threshold=2), axis=1).mean())"
   ]
  },
  {
   "cell_type": "code",
   "execution_count": 34,
   "metadata": {},
   "outputs": [
    {
     "name": "stdout",
     "output_type": "stream",
     "text": [
      "pose0_position_0 0.80595115995116\n",
      "pose0_position_1 0.7393510378510378\n",
      "pose1_position_0 0.8283333333333333\n",
      "pose1_position_1 0.7031275946275946\n",
      "pose0_rotation_0 0.9969230769230769\n",
      "pose0_rotation_1 0.9969230769230769\n",
      "pose0_rotation_2 0.9969230769230769\n",
      "pose0_rotation_3 0.9969230769230769\n",
      "pose1_rotation_0 0.9969230769230769\n",
      "pose1_rotation_1 0.9969230769230769\n",
      "pose1_rotation_2 0.4325054945054945\n",
      "pose1_rotation_3 0.23856043956043957\n"
     ]
    }
   ],
   "source": [
    "for attribute in attributes:\n",
    "    print(attribute, df.apply(partial(per_trace_accu, col=attribute, threshold=2), axis=1).mean())"
   ]
  },
  {
   "cell_type": "code",
   "execution_count": 60,
   "metadata": {},
   "outputs": [
    {
     "data": {
      "text/plain": [
       "{'pick_in_order_then_restore': 0.231,\n",
       " 'sweep_without_exceeding': 0.063,\n",
       " 'novel_noun': 0.064,\n",
       " 'simple_manipulation': 0.063,\n",
       " 'novel_adj': 0.064,\n",
       " 'manipulate_old_neighbor': 0.065,\n",
       " 'scene_understanding': 0.065,\n",
       " 'same_profile': 0.065,\n",
       " 'rotate': 0.064,\n",
       " 'rearrange_then_restore': 0.065,\n",
       " 'follow_order': 0.065,\n",
       " 'twist': 0.063,\n",
       " 'rearrange': 0.064}"
      ]
     },
     "execution_count": 60,
     "metadata": {},
     "output_type": "execute_result"
    }
   ],
   "source": [
    "from functools import reduce\n",
    "from collections import Counter\n",
    "\n",
    "dfs = [pd.read_csv(f) for f in glob('logs\\\\*.csv')]\n",
    "def measure_task_freq(df: pd.DataFrame):\n",
    "    return df['task'].value_counts().to_dict()\n",
    "\n",
    "def sum_counts(dict_list):\n",
    "    return dict(reduce(lambda x, y: x + y, map(Counter, dict_list)))\n",
    "\n",
    "counts = dict(reduce(lambda x, y: x + y, map(Counter, map(measure_task_freq, dfs))))\n",
    "total_sum = sum(counts.values())\n",
    "frequency = {key: round(value / total_sum, 3) for key, value in counts.items()}\n",
    "frequency"
   ]
  },
  {
   "cell_type": "code",
   "execution_count": 126,
   "metadata": {},
   "outputs": [
    {
     "name": "stdout",
     "output_type": "stream",
     "text": [
      "39\n"
     ]
    }
   ],
   "source": [
    "with open('simple_shuffle.txt') as f:\n",
    "    results = list(filter(lambda x: x.strip() in ('True', 'False',), f.readlines()))\n",
    "    assert len(results) == 100\n",
    "    print(sum(map(\n",
    "        lambda x: 1 if x.strip() == 'True' else 0,\n",
    "        results)\n",
    "    ))"
   ]
  },
  {
   "cell_type": "code",
   "execution_count": 125,
   "metadata": {},
   "outputs": [
    {
     "data": {
      "text/html": [
       "<div>\n",
       "<style scoped>\n",
       "    .dataframe tbody tr th:only-of-type {\n",
       "        vertical-align: middle;\n",
       "    }\n",
       "\n",
       "    .dataframe tbody tr th {\n",
       "        vertical-align: top;\n",
       "    }\n",
       "\n",
       "    .dataframe thead th {\n",
       "        text-align: right;\n",
       "    }\n",
       "</style>\n",
       "<table border=\"1\" class=\"dataframe\">\n",
       "  <thead>\n",
       "    <tr style=\"text-align: right;\">\n",
       "      <th></th>\n",
       "      <th>simple task</th>\n",
       "      <th>hard task</th>\n",
       "    </tr>\n",
       "  </thead>\n",
       "  <tbody>\n",
       "    <tr>\n",
       "      <th>in paper</th>\n",
       "      <td>100.0</td>\n",
       "      <td>63.0</td>\n",
       "    </tr>\n",
       "    <tr>\n",
       "      <th>no change</th>\n",
       "      <td>100.0</td>\n",
       "      <td>60.0</td>\n",
       "    </tr>\n",
       "    <tr>\n",
       "      <th>reverse</th>\n",
       "      <td>15.0</td>\n",
       "      <td>0.0</td>\n",
       "    </tr>\n",
       "    <tr>\n",
       "      <th>shuffle</th>\n",
       "      <td>1.0</td>\n",
       "      <td>2.0</td>\n",
       "    </tr>\n",
       "  </tbody>\n",
       "</table>\n",
       "</div>"
      ],
      "text/plain": [
       "           simple task  hard task\n",
       "in paper         100.0       63.0\n",
       "no change        100.0       60.0\n",
       "reverse           15.0        0.0\n",
       "shuffle            1.0        2.0"
      ]
     },
     "execution_count": 125,
     "metadata": {},
     "output_type": "execute_result"
    }
   ],
   "source": [
    "data = {\n",
    "    \"in paper\": [100.0, 63.0],\n",
    "    \"no change\": [100.0, 60.0],\n",
    "    \"reverse\": [15.0, 0.0],\n",
    "    \"shuffle\": [39.0, 2.0]\n",
    "    \n",
    "}\n",
    "index = ['simple task', 'hard task']\n",
    "\n",
    "pd.DataFrame(data=data, index=index).T"
   ]
  }
 ],
 "metadata": {
  "kernelspec": {
   "display_name": "vima_reproduce",
   "language": "python",
   "name": "python3"
  },
  "language_info": {
   "codemirror_mode": {
    "name": "ipython",
    "version": 3
   },
   "file_extension": ".py",
   "mimetype": "text/x-python",
   "name": "python",
   "nbconvert_exporter": "python",
   "pygments_lexer": "ipython3",
   "version": "3.9.18"
  }
 },
 "nbformat": 4,
 "nbformat_minor": 2
}
