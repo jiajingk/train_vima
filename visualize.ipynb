{
 "cells": [
  {
   "cell_type": "code",
   "execution_count": 1,
   "metadata": {},
   "outputs": [],
   "source": [
    "from glob import glob\n",
    "import os\n",
    "import pandas as pd\n",
    "import matplotlib.pyplot as plt\n",
    "from typing import List, Tuple, Dict"
   ]
  },
  {
   "cell_type": "code",
   "execution_count": null,
   "metadata": {},
   "outputs": [],
   "source": [
    "train_csv_paths = list(glob(os.path.join('.', 'train_*.csv')))\n",
    "valid_csv_paths = list(glob(os.path.join('.', 'valid_*.csv')))\n",
    "assert len(train_csv_paths) > 0"
   ]
  },
  {
   "cell_type": "code",
   "execution_count": null,
   "metadata": {},
   "outputs": [],
   "source": [
    "df = pd.read_csv(train_csv_paths[0])"
   ]
  },
  {
   "cell_type": "code",
   "execution_count": null,
   "metadata": {},
   "outputs": [],
   "source": [
    "new_columns = {col: col.replace('validation__', '') for col in df.columns if col.startswith('validation__')}\n",
    "df = df.rename(columns=new_columns)"
   ]
  },
  {
   "cell_type": "code",
   "execution_count": null,
   "metadata": {},
   "outputs": [],
   "source": [
    "unweighted_sample_cols = [\n",
    "    str(col) for col in df.columns if 'unweigted_sample_loss' in col\n",
    "]"
   ]
  },
  {
   "cell_type": "code",
   "execution_count": null,
   "metadata": {},
   "outputs": [],
   "source": [
    "epochs = sorted(list(set(df.epoch_id)))\n",
    "epochs"
   ]
  },
  {
   "cell_type": "code",
   "execution_count": null,
   "metadata": {},
   "outputs": [],
   "source": [
    "unweighted_losses = []\n",
    "for i in epochs:\n",
    "    loss = df.loc[df.epoch_id == i].iloc[:, df.columns.isin(unweighted_sample_cols)].sum(axis=1).mean()\n",
    "    unweighted_losses.append(loss)\n",
    "plt.plot(unweighted_losses)"
   ]
  },
  {
   "cell_type": "code",
   "execution_count": null,
   "metadata": {},
   "outputs": [],
   "source": [
    "cols = list(df.columns)\n",
    "rotation_cols = list(col for col in cols if '_rotation_' in col and 'sample_loss' in col)\n",
    "position_cols = list(col for col in cols if '_position_' in col and 'sample_loss' in col)\n",
    "fig = plt.figure()\n",
    "mean_loss = df[rotation_cols + position_cols + ['epoch_id']].groupby('epoch_id').mean()\n",
    "ax = mean_loss.plot(ylabel='cross_entropy_loss')\n",
    "box = ax.get_position()\n",
    "ax.set_position([box.x0, box.y0, box.width * 0.8, box.height])\n",
    "ax.legend(loc='center left', bbox_to_anchor=(1, 0.5))"
   ]
  },
  {
   "cell_type": "code",
   "execution_count": null,
   "metadata": {},
   "outputs": [],
   "source": [
    "per_task_loss = df[rotation_cols + position_cols + ['task']].groupby('task').sum().sum(axis=1).sort_values()\n",
    "per_task_loss / per_task_loss.min()"
   ]
  },
  {
   "cell_type": "code",
   "execution_count": null,
   "metadata": {},
   "outputs": [],
   "source": []
  },
  {
   "cell_type": "markdown",
   "metadata": {},
   "source": [
    "Learning Rate"
   ]
  },
  {
   "cell_type": "code",
   "execution_count": null,
   "metadata": {},
   "outputs": [],
   "source": []
  },
  {
   "cell_type": "code",
   "execution_count": null,
   "metadata": {},
   "outputs": [],
   "source": [
    "import math \n",
    "from playground.typing import TrainParam, DatasetParam\n",
    "\n",
    "def get_lr_param():\n",
    "    return {\n",
    "        \"warmup_end_at_iters\": 7000,\n",
    "        \"flatten_end_at_iters\": 240000,\n",
    "        \"lr_decay_end_at_iters\": 960000,\n",
    "        \"learning_rate\": 1e-5,\n",
    "        \"min_lr\": 1e-7, \n",
    "    }\n",
    "\n",
    "\n",
    "def get_optimizer_param():\n",
    "    return {\n",
    "        \"clip_norm\": 1.0,\n",
    "        \"inital_lr\": get_lr_param()[\"learning_rate\"],\n",
    "        \"optimizer_name\": \"AdamW\",\n",
    "        \"weight_decay\": 0.0\n",
    "    }\n",
    "\n",
    "def get_dataset_param():\n",
    "    return  {\n",
    "        \"data_pct_usage\": 1.0,\n",
    "        \"total_data_size_per_task\": 40000,\n",
    "        \"validation_pct\": 0.00,\n",
    "        \"source\": \"s3://vima\",\n",
    "        \"tasks\": [\n",
    "            \"follow_order\",\n",
    "            \"manipulate_old_neighbor\",\n",
    "            \"novel_adj\",\n",
    "            \"novel_noun\",\n",
    "            \"pick_in_order_then_restore\",\n",
    "            \"rearrange_then_restore\",\n",
    "            \"rearrange\",\n",
    "            \"rotate\",\n",
    "            \"same_profile\",\n",
    "            \"scene_understanding\",\n",
    "            \"simple_manipulation\",\n",
    "            \"sweep_without_exceeding\",\n",
    "            \"twist\",\n",
    "        ]\n",
    "    }\n",
    "\n",
    "def get_train_param():\n",
    "    return {\n",
    "        \"model_size\": \"2M\",\n",
    "        \"total_epoch\": 50,\n",
    "        \"local_batch_size\": 128,\n",
    "        \"distributed\": False,\n",
    "    }\n",
    "def get_lr(it: int) -> float:\n",
    "    lr_param = get_lr_param()\n",
    "    warmup_iters = lr_param[\"warmup_end_at_iters\"]\n",
    "    flatten_iters = lr_param[\"flatten_end_at_iters\"]\n",
    "    learning_rate = lr_param[\"learning_rate\"]\n",
    "    lr_decay_iters = lr_param[\"lr_decay_end_at_iters\"]\n",
    "    min_lr = lr_param[\"min_lr\"]\n",
    "    if it < warmup_iters:\n",
    "        return learning_rate * it / warmup_iters\n",
    "    if warmup_iters <= it < flatten_iters:\n",
    "        return learning_rate\n",
    "    if it > lr_decay_iters:\n",
    "        return min_lr\n",
    "    decay_ratio = (it - flatten_iters) / (lr_decay_iters - flatten_iters)\n",
    "    assert 0 <= decay_ratio <= 1, f\"{decay_ratio = }, {it = }\"\n",
    "    coeff = 0.5 * (1.0 + math.cos(math.pi * decay_ratio))\n",
    "    return min_lr + coeff * (learning_rate - min_lr)\n",
    "\n",
    "\n",
    "def get_batch_per_epoch(\n",
    "        dataset_param: DatasetParam,\n",
    "        train_param: TrainParam,\n",
    "        is_train: bool = True\n",
    "    ):\n",
    "    if is_train:\n",
    "        scaling = 1.0\n",
    "    else:\n",
    "        scaling = dataset_param[\"validation_pct\"]\n",
    "    epoch_size = ( \n",
    "        int(\n",
    "            dataset_param[\"total_data_size_per_task\"] \n",
    "            * scaling \n",
    "            * len(dataset_param[\"tasks\"]\n",
    "        ) \n",
    "        * dataset_param[\"data_pct_usage\"]) \n",
    "    )\n",
    "    batch_size = (\n",
    "        train_param[\"local_batch_size\"] \n",
    "            if train_param[\"distributed\"] is False \n",
    "            else train_param[\"local_batch_size\"] * 1\n",
    "    )\n",
    "    if epoch_size % batch_size != 0:\n",
    "        return epoch_size // batch_size + 1\n",
    "    return epoch_size // batch_size\n",
    "\n",
    "def get_total_batch_count(\n",
    "        dataset_param: DatasetParam,\n",
    "        train_param: TrainParam,\n",
    "        batch_id: int, \n",
    "        epoch_id: int,\n",
    "        is_train: bool = True\n",
    "    ) -> int:\n",
    "    batch_count_per_epoch = get_batch_per_epoch(dataset_param, train_param, is_train)\n",
    "    current_total_batch_count = batch_id + epoch_id * batch_count_per_epoch\n",
    "    return current_total_batch_count\n",
    "\n",
    "def measure_lr(\n",
    "        dataset_param: DatasetParam,\n",
    "        train_param: TrainParam,\n",
    "        batch_id: int, \n",
    "        epoch_id: int\n",
    "    ):\n",
    "    current_total_batch_count = get_total_batch_count(\n",
    "        dataset_param, \n",
    "        train_param, \n",
    "        batch_id, \n",
    "        epoch_id, \n",
    "        is_train=True\n",
    "    )\n",
    "    return get_lr(current_total_batch_count)"
   ]
  },
  {
   "cell_type": "code",
   "execution_count": null,
   "metadata": {},
   "outputs": [],
   "source": [
    "def get_lrs():\n",
    "    lrs = []\n",
    "    for epoch_id in range(get_train_param()[\"total_epoch\"]):\n",
    "        for batch_id in range(\n",
    "            get_batch_per_epoch(\n",
    "                get_dataset_param(),\n",
    "                get_train_param(),\n",
    "            )\n",
    "        ):\n",
    "            lrs.append(\n",
    "                measure_lr(\n",
    "                    get_dataset_param(),\n",
    "                    get_train_param(),\n",
    "                    batch_id,\n",
    "                    epoch_id\n",
    "                )\n",
    "            )\n",
    "    return lrs"
   ]
  },
  {
   "cell_type": "code",
   "execution_count": null,
   "metadata": {},
   "outputs": [],
   "source": [
    "lrs = get_lrs()\n",
    "print(len(lrs))\n",
    "_ = plt.plot(lrs)"
   ]
  },
  {
   "cell_type": "markdown",
   "metadata": {},
   "source": [
    "Eval Result"
   ]
  },
  {
   "cell_type": "code",
   "execution_count": 24,
   "metadata": {},
   "outputs": [],
   "source": [
    "df = pd.read_csv('eval_2024-06-17_clear-moon-835_39_0.csv')"
   ]
  },
  {
   "cell_type": "code",
   "execution_count": 25,
   "metadata": {},
   "outputs": [],
   "source": [
    "def calc_success_rate(df):\n",
    "    task_ids = {\n",
    "        \"visual_manipulation\": \"01\",\n",
    "        \"scene_understanding\": \"02\",\n",
    "        \"rotate\": \"03\",\n",
    "        \"rearrange\": \"04\",\n",
    "        \"rearrange_then_restore\": \"05\",\n",
    "        \"novel_adj\": \"06\",\n",
    "        \"novel_noun\": \"07\",\n",
    "        \"novel_adj_and_noun\": \"08\",\n",
    "        \"twist\": \"09\",\n",
    "        \"follow_motion\": \"10\",\n",
    "        \"follow_order\": \"11\",\n",
    "        \"sweep_without_exceeding\": \"12\",\n",
    "        \"sweep_without_touching\": \"13\",\n",
    "        \"same_texture\": \"14\",\n",
    "        \"same_shape\": \"15\",\n",
    "        \"manipulate_old_neighbor\": \"16\",\n",
    "        \"pick_in_order_then_restore\": \"17\"\n",
    "    }\n",
    "    return {\n",
    "        task_ids[group.iloc[0]['task']]: round(float(group[['sucess']].mean().iloc[0] * 100), 1)\n",
    "            for _, group in df.groupby('task')\n",
    "    }\n",
    "\n"
   ]
  },
  {
   "cell_type": "code",
   "execution_count": 26,
   "metadata": {},
   "outputs": [],
   "source": [
    "eval_success_rates = calc_success_rate(df)"
   ]
  },
  {
   "cell_type": "code",
   "execution_count": 27,
   "metadata": {},
   "outputs": [
    {
     "data": {
      "text/plain": [
       "[('01', 100.0),\n",
       " ('02', 100.0),\n",
       " ('03', 100.0),\n",
       " ('04', 58.0),\n",
       " ('05', 37.0),\n",
       " ('06', 100.0),\n",
       " ('07', 100.0),\n",
       " ('09', 15.0),\n",
       " ('11', 67.0),\n",
       " ('12', 66.0),\n",
       " ('15', 94.0),\n",
       " ('16', 47.0),\n",
       " ('17', 76.0)]"
      ]
     },
     "execution_count": 27,
     "metadata": {},
     "output_type": "execute_result"
    }
   ],
   "source": [
    "sorted(list(eval_success_rates.items()))"
   ]
  },
  {
   "cell_type": "code",
   "execution_count": 208,
   "metadata": {},
   "outputs": [
    {
     "data": {
      "text/html": [
       "<div>\n",
       "<style scoped>\n",
       "    .dataframe tbody tr th:only-of-type {\n",
       "        vertical-align: middle;\n",
       "    }\n",
       "\n",
       "    .dataframe tbody tr th {\n",
       "        vertical-align: top;\n",
       "    }\n",
       "\n",
       "    .dataframe thead th {\n",
       "        text-align: right;\n",
       "    }\n",
       "</style>\n",
       "<table border=\"1\" class=\"dataframe\">\n",
       "  <thead>\n",
       "    <tr style=\"text-align: right;\">\n",
       "      <th></th>\n",
       "      <th>01</th>\n",
       "      <th>02</th>\n",
       "      <th>03</th>\n",
       "      <th>04</th>\n",
       "      <th>05</th>\n",
       "      <th>06</th>\n",
       "      <th>07</th>\n",
       "      <th>09</th>\n",
       "      <th>11</th>\n",
       "      <th>12</th>\n",
       "      <th>15</th>\n",
       "      <th>16</th>\n",
       "      <th>17</th>\n",
       "      <th>avg</th>\n",
       "    </tr>\n",
       "  </thead>\n",
       "  <tbody>\n",
       "    <tr>\n",
       "      <th>in paper</th>\n",
       "      <td>100.0</td>\n",
       "      <td>100.0</td>\n",
       "      <td>100.0</td>\n",
       "      <td>96.0</td>\n",
       "      <td>37.0</td>\n",
       "      <td>100.0</td>\n",
       "      <td>100.0</td>\n",
       "      <td>9.5</td>\n",
       "      <td>87.0</td>\n",
       "      <td>64.0</td>\n",
       "      <td>93.5</td>\n",
       "      <td>45.0</td>\n",
       "      <td>63.0</td>\n",
       "      <td>76.5</td>\n",
       "    </tr>\n",
       "    <tr>\n",
       "      <th>30 epoch sort</th>\n",
       "      <td>100.0</td>\n",
       "      <td>100.0</td>\n",
       "      <td>99.0</td>\n",
       "      <td>59.0</td>\n",
       "      <td>34.0</td>\n",
       "      <td>100.0</td>\n",
       "      <td>100.0</td>\n",
       "      <td>15.0</td>\n",
       "      <td>53.0</td>\n",
       "      <td>60.0</td>\n",
       "      <td>97.0</td>\n",
       "      <td>49.0</td>\n",
       "      <td>79.0</td>\n",
       "      <td>72.6</td>\n",
       "    </tr>\n",
       "    <tr>\n",
       "      <th>45 epoch shuffle</th>\n",
       "      <td>95.0</td>\n",
       "      <td>69.0</td>\n",
       "      <td>96.0</td>\n",
       "      <td>95.0</td>\n",
       "      <td>47.0</td>\n",
       "      <td>46.0</td>\n",
       "      <td>76.0</td>\n",
       "      <td>10.0</td>\n",
       "      <td>63.0</td>\n",
       "      <td>95.0</td>\n",
       "      <td>73.0</td>\n",
       "      <td>60.0</td>\n",
       "      <td>1.0</td>\n",
       "      <td>63.5</td>\n",
       "    </tr>\n",
       "  </tbody>\n",
       "</table>\n",
       "</div>"
      ],
      "text/plain": [
       "                     01     02     03    04    05     06     07    09    11  \\\n",
       "in paper          100.0  100.0  100.0  96.0  37.0  100.0  100.0   9.5  87.0   \n",
       "30 epoch sort     100.0  100.0   99.0  59.0  34.0  100.0  100.0  15.0  53.0   \n",
       "45 epoch shuffle   95.0   69.0   96.0  95.0  47.0   46.0   76.0  10.0  63.0   \n",
       "\n",
       "                    12    15    16    17   avg  \n",
       "in paper          64.0  93.5  45.0  63.0  76.5  \n",
       "30 epoch sort     60.0  97.0  49.0  79.0  72.6  \n",
       "45 epoch shuffle  95.0  73.0  60.0   1.0  63.5  "
      ]
     },
     "execution_count": 208,
     "metadata": {},
     "output_type": "execute_result"
    }
   ],
   "source": [
    "data = {\n",
    "    \"01\": [100.0, 100.0, 95.0],\n",
    "    \"02\": [100.0, 100.0, 69.0],\n",
    "    \"03\": [100.0, 100.0, 96.0],\n",
    "    \"04\": [96.0, 58.0, 95.0],\n",
    "    \"05\": [37.0, 37.0, 47.0],\n",
    "    \"06\": [100.0, 100.0, 46.0],\n",
    "    \"07\": [100.0, 100.0, 76.0],\n",
    "    \"09\": [9.5, 15.0, 10.0],\n",
    "    \"11\": [87.0, 67.0, 63.0],\n",
    "    \"12\": [64.0, 66.0, 95.0],\n",
    "    \"15\": [93.5, 94.0, 73.0],\n",
    "    \"16\": [45.0, 47.0, 60.0],\n",
    "    \"17\": [63.0, 76.0, 1.0],\n",
    "    \"avg\": [76.5, 72.6, 63.5]\n",
    "\n",
    "}\n",
    "\n",
    "pd.DataFrame(data=data, index=[\"in paper\", \"40 epoch sort\", \"45 epoch shuffle\"])"
   ]
  },
  {
   "cell_type": "code",
   "execution_count": null,
   "metadata": {},
   "outputs": [],
   "source": []
  },
  {
   "cell_type": "markdown",
   "metadata": {},
   "source": []
  },
  {
   "cell_type": "code",
   "execution_count": 184,
   "metadata": {},
   "outputs": [
    {
     "data": {
      "text/plain": [
       "83.92307692307692"
      ]
     },
     "execution_count": 184,
     "metadata": {},
     "output_type": "execute_result"
    }
   ],
   "source": [
    "sum(eval_success_rates.values()) / len(eval_success_rates)"
   ]
  },
  {
   "cell_type": "code",
   "execution_count": 4,
   "metadata": {},
   "outputs": [],
   "source": [
    "from glob import glob"
   ]
  },
  {
   "cell_type": "code",
   "execution_count": 18,
   "metadata": {},
   "outputs": [],
   "source": [
    "all_results1 = glob(os.path.join('remote_eval', 'result', '*.csv'))\n",
    "all_results2 = glob(os.path.join('hist_exp', 'remote_eval-2024_06_08', 'result', '*.csv'))\n",
    "all_results1 = {\n",
    "    epoch: path for epoch, path in \n",
    "    zip(\n",
    "        map(\n",
    "            lambda x: int(os.path.basename(x).split('_')[3]),\n",
    "            all_results1\n",
    "        ),\n",
    "        all_results1\n",
    "    ) \n",
    "}\n",
    "all_results2 = {\n",
    "    epoch: path for epoch, path in \n",
    "    zip(\n",
    "        map(\n",
    "            lambda x: int(os.path.basename(x).split('_')[3]),\n",
    "            all_results2\n",
    "        ),\n",
    "        all_results2\n",
    "    ) \n",
    "}\n",
    "def parse_eval_csv(payload):\n",
    "    epoch, path = payload\n",
    "    return epoch, calc_success_rate(pd.read_csv(path))\n",
    "success_rate_trace1 = list(map(\n",
    "    parse_eval_csv,\n",
    "    list(sorted(all_results1.items()))\n",
    "))\n",
    "success_rate_trace2 = list(map(\n",
    "    parse_eval_csv,\n",
    "    list(sorted(all_results2.items()))\n",
    "))"
   ]
  },
  {
   "cell_type": "code",
   "execution_count": 19,
   "metadata": {},
   "outputs": [],
   "source": [
    "def extract_single_success(task_id: str, trace: List[Tuple[int, Dict[str, float]]]):\n",
    "    return ( \n",
    "        list(x[0] for x in trace),\n",
    "        list(x[1][task_id] for x in trace)\n",
    "    )\n",
    "        \n",
    "def extract_avg_success(trace: List[Tuple[int, Dict[str, float]]]):\n",
    "    return ( \n",
    "        list(x[0] for x in trace),\n",
    "        list(sum(x[1].values()) / len(x[1]) for x in trace)\n",
    "    )"
   ]
  },
  {
   "cell_type": "code",
   "execution_count": 21,
   "metadata": {},
   "outputs": [
    {
     "data": {
      "text/plain": [
       "[52.0, 55.0, 57.0, 50.0, 59.0, 55.0, 57.0, 58.0, 61.0, 58.0, 61.0]"
      ]
     },
     "execution_count": 21,
     "metadata": {},
     "output_type": "execute_result"
    },
    {
     "data": {
      "image/png": "[encoded data removed]",
      "text/plain": [
       "<Figure size 640x480 with 1 Axes>"
      ]
     },
     "metadata": {},
     "output_type": "display_data"
    }
   ],
   "source": [
    "xs2, ys2 = extract_single_success(\"04\", success_rate_trace1)\n",
    "def decide(i):\n",
    "    if i < 45:\n",
    "        return 'b'\n",
    "    elif 45 <= i <= 55:\n",
    "        return 'g'\n",
    "    return 'r'\n",
    "colors = [decide(x) for x in xs2]\n",
    "_ = plt.scatter(xs2, ys2, color=colors)\n",
    "ys2[-11:]"
   ]
  },
  {
   "cell_type": "code",
   "execution_count": 23,
   "metadata": {},
   "outputs": [
    {
     "data": {
      "text/plain": [
       "[73.23076923076923,\n",
       " 73.84615384615384,\n",
       " 71.92307692307692,\n",
       " 72.53846153846153,\n",
       " 72.23076923076923]"
      ]
     },
     "execution_count": 23,
     "metadata": {},
     "output_type": "execute_result"
    },
    {
     "data": {
      "image/png": "[encoded data removed]",
      "text/plain": [
       "<Figure size 640x480 with 1 Axes>"
      ]
     },
     "metadata": {},
     "output_type": "display_data"
    }
   ],
   "source": [
    "xs1, ys1 = extract_avg_success(success_rate_trace1)\n",
    "xs2, ys2 = extract_avg_success(success_rate_trace2)\n",
    "plt.xlabel('epoch')\n",
    "plt.ylabel('success rate')\n",
    "def decide1(i):\n",
    "    if i > 15:\n",
    "        return 'g'\n",
    "    return 'b'\n",
    "def decide2(i):\n",
    "    return 'g'\n",
    "colors1 = [decide1(x) for x in xs1]\n",
    "colors2 = [decide2(x) for x in xs2]\n",
    "t = 1000\n",
    "_ = plt.scatter(xs1[:t], ys1[:t], color=colors1[:t])\n",
    "#_ = plt.scatter(xs2[:t], ys2[:t], color=colors2[:t])\n",
    "import heapq\n",
    "heapq.nlargest(5, zip(ys1, range(len(ys1))))\n",
    "ys1[-5:]"
   ]
  },
  {
   "cell_type": "markdown",
   "metadata": {},
   "source": [
    "Evalution"
   ]
  },
  {
   "cell_type": "code",
   "execution_count": null,
   "metadata": {},
   "outputs": [],
   "source": [
    "import pandas as pd\n",
    "import glob\n",
    "\n",
    "\n",
    "mode = 'train'\n",
    "file_pattern = f'logs\\\\{mode}_*.csv'\n",
    "csv_files = glob.glob(file_pattern)\n",
    "dataframes = [pd.read_csv(file) for file in csv_files]\n",
    "solution_df = pd.concat(dataframes, ignore_index=True)"
   ]
  },
  {
   "cell_type": "code",
   "execution_count": null,
   "metadata": {},
   "outputs": [],
   "source": [
    "loss_cols = [col for col in df.columns if 'unweigted_sample_loss' in col]\n",
    "position_loss_cols = [col for col in loss_cols if 'position' in col]\n",
    "rotation_loss_cols = [col for col in loss_cols if 'rotation' in col]"
   ]
  },
  {
   "cell_type": "code",
   "execution_count": null,
   "metadata": {},
   "outputs": [],
   "source": [
    "rename = {\n",
    "    old_col_name: old_col_name.replace(\"unweigted_sample_loss__\", \"\") \n",
    "        for old_col_name in loss_cols\n",
    "}\n",
    "df[loss_cols].rename(columns=rename).describe()"
   ]
  },
  {
   "cell_type": "code",
   "execution_count": null,
   "metadata": {},
   "outputs": [],
   "source": [
    "for task_name, task_df in df[position_loss_cols + ['task']].groupby('task'):\n",
    "    rename = {\n",
    "        old_col_name: old_col_name.replace(\"unweigted_sample_loss__\", \"\") \n",
    "            for old_col_name in position_loss_cols\n",
    "    }\n",
    "    print(task_name)\n",
    "    print(task_df[position_loss_cols].rename(columns=rename).describe())\n",
    "    print(\"=============\")"
   ]
  },
  {
   "cell_type": "code",
   "execution_count": null,
   "metadata": {},
   "outputs": [],
   "source": [
    "df['sum_loss'] = df[position_loss_cols].sum(axis=1)\n",
    "df.groupby('task')['sum_loss'].describe().T.columns"
   ]
  },
  {
   "cell_type": "code",
   "execution_count": null,
   "metadata": {},
   "outputs": [],
   "source": []
  },
  {
   "cell_type": "markdown",
   "metadata": {},
   "source": []
  },
  {
   "cell_type": "code",
   "execution_count": 78,
   "metadata": {},
   "outputs": [],
   "source": [
    "import pandas as pd\n",
    "import glob\n",
    "import os\n",
    "from typing import List, Literal, Callable"
   ]
  },
  {
   "cell_type": "code",
   "execution_count": 79,
   "metadata": {},
   "outputs": [],
   "source": [
    "\n",
    "mode = 'train'\n",
    "i = 8\n",
    "    \n",
    "file_pattern = f'logs\\\\{mode}_{i}_*.csv'\n",
    "csv_files = glob.glob(file_pattern)\n",
    "dataframes = [pd.read_csv(file) for file in csv_files]\n",
    "df = pd.concat(dataframes, ignore_index=True)"
   ]
  },
  {
   "cell_type": "code",
   "execution_count": 80,
   "metadata": {},
   "outputs": [],
   "source": [
    "loss_cols = [col for col in df.columns if 'unweigted_sample_loss' in col]\n",
    "position_loss_cols = [col for col in loss_cols if 'position' in col]\n",
    "rotation_loss_cols = [col for col in loss_cols if 'rotation' in col]"
   ]
  },
  {
   "cell_type": "code",
   "execution_count": 81,
   "metadata": {},
   "outputs": [
    {
     "data": {
      "text/plain": [
       "Index(['pose0_position_0', 'pose0_position_1', 'pose1_position_0',\n",
       "       'pose1_position_1', 'pose0_rotation_0', 'pose0_rotation_1',\n",
       "       'pose0_rotation_2', 'pose0_rotation_3', 'pose1_rotation_0',\n",
       "       'pose1_rotation_1', 'pose1_rotation_2', 'pose1_rotation_3'],\n",
       "      dtype='object')"
      ]
     },
     "execution_count": 81,
     "metadata": {},
     "output_type": "execute_result"
    }
   ],
   "source": [
    "rename = {\n",
    "    old_col_name: old_col_name.replace(\"unweigted_sample_loss__\", \"\") \n",
    "        for old_col_name in loss_cols\n",
    "}\n",
    "df[loss_cols].rename(columns=rename).describe().columns"
   ]
  },
  {
   "cell_type": "code",
   "execution_count": 82,
   "metadata": {},
   "outputs": [],
   "source": [
    "exps = set(\n",
    "    [\n",
    "        str(os.path.basename(file_path))\n",
    "        .split('.')[0]\n",
    "        .split('_')[2] \n",
    "            for file_path in glob.glob('logs/*.csv')\n",
    "    ]\n",
    ")"
   ]
  },
  {
   "cell_type": "code",
   "execution_count": 83,
   "metadata": {},
   "outputs": [],
   "source": [
    "def get_trace_paths(\n",
    "        exp_id: str, \n",
    "        mode: str\n",
    "    ):\n",
    "    return [\n",
    "        exp\n",
    "            for exp in sorted(\n",
    "                glob.glob(f'logs/{mode}_*_{exp_id}.csv'),\n",
    "                key = lambda x: int(x.split('_')[1])\n",
    "            )\n",
    "    ]\n",
    "\n",
    "def trace_epoch(\n",
    "        exp_id: str, \n",
    "        mode: str = 'train'\n",
    "    ) -> List[pd.DataFrame]:\n",
    "    return [\n",
    "        pd.read_csv(exp)\n",
    "            for exp in \n",
    "                get_trace_paths(exp_id, mode)\n",
    "    ]\n",
    "\n",
    "def trace_ddp(exp_ids: List[str], epoch: int, mode: str = 'train') -> pd.DataFrame:\n",
    "    exp_paths = [\n",
    "        os.path.join('logs', f'{mode}_{epoch}_{exp_id}.csv') for exp_id in exp_ids\n",
    "    ]\n",
    "    exp_paths = filter(lambda x: os.path.exists(x), exp_paths)\n",
    "    dataframes = [\n",
    "        pd.read_csv(exp_path) for exp_path in exp_paths\n",
    "    ]\n",
    "    df = pd.concat(dataframes, ignore_index=True)\n",
    "    return df\n"
   ]
  },
  {
   "cell_type": "code",
   "execution_count": null,
   "metadata": {},
   "outputs": [],
   "source": [
    "dfs = [\n",
    "    trace_ddp(exps, i, 'train') for i in range(30)\n",
    "]"
   ]
  },
  {
   "cell_type": "code",
   "execution_count": 84,
   "metadata": {},
   "outputs": [],
   "source": [
    "Aggregator = Literal['count', 'mean', 'std', 'min', '25%', '50%', '75%', 'max']\n",
    "Transform = Callable[[pd.DataFrame], pd.DataFrame]\n",
    "def measure(\n",
    "        df: pd.DataFrame, \n",
    "        transform: Transform, \n",
    "        attr: str, \n",
    "        aggr: Aggregator\n",
    "    ) -> float:\n",
    "    df = transform(df)\n",
    "    describe = df.describe()\n",
    "    if attr not in describe.columns:\n",
    "        describe = describe.T\n",
    "    return describe[attr][aggr]\n",
    "    "
   ]
  },
  {
   "cell_type": "code",
   "execution_count": 85,
   "metadata": {},
   "outputs": [],
   "source": [
    "attributes = [\n",
    "    'pose0_position_0', 'pose0_position_1', 'pose1_position_0',\n",
    "    'pose1_position_1', 'pose0_rotation_0', 'pose0_rotation_1',\n",
    "    'pose0_rotation_2', 'pose0_rotation_3', 'pose1_rotation_0',\n",
    "    'pose1_rotation_1', 'pose1_rotation_2', 'pose1_rotation_3'\n",
    "]\n",
    "tasks = [\n",
    "    'follow_order', 'manipulate_old_neighbor', 'novel_adj', 'novel_noun',\n",
    "    'pick_in_order_then_restore', 'rearrange', 'rearrange_then_restore',\n",
    "    'rotate', 'same_profile', 'scene_understanding', 'simple_manipulation',\n",
    "    'sweep_without_exceeding', 'twist'\n",
    "]"
   ]
  },
  {
   "cell_type": "code",
   "execution_count": 86,
   "metadata": {},
   "outputs": [],
   "source": [
    "def per_attr_transform(df: pd.DataFrame) -> pd.DataFrame:\n",
    "    loss_cols = [col for col in df.columns if 'unweigted_sample_loss' in col]\n",
    "    rename = {\n",
    "        old_col_name: old_col_name.replace(\"unweigted_sample_loss__\", \"\") \n",
    "            for old_col_name in loss_cols\n",
    "    }\n",
    "    return df[loss_cols].rename(columns=rename)"
   ]
  },
  {
   "cell_type": "code",
   "execution_count": 87,
   "metadata": {},
   "outputs": [
    {
     "ename": "NameError",
     "evalue": "name 'solution_df' is not defined",
     "output_type": "error",
     "traceback": [
      "\u001b[1;31m---------------------------------------------------------------------------\u001b[0m",
      "\u001b[1;31mNameError\u001b[0m                                 Traceback (most recent call last)",
      "Cell \u001b[1;32mIn[87], line 1\u001b[0m\n\u001b[1;32m----> 1\u001b[0m measure(\u001b[43msolution_df\u001b[49m, per_attr_transform, \u001b[38;5;124m'\u001b[39m\u001b[38;5;124mpose0_position_0\u001b[39m\u001b[38;5;124m'\u001b[39m, \u001b[38;5;124m'\u001b[39m\u001b[38;5;124mmean\u001b[39m\u001b[38;5;124m'\u001b[39m)\n",
      "\u001b[1;31mNameError\u001b[0m: name 'solution_df' is not defined"
     ]
    }
   ],
   "source": [
    "measure(solution_df, per_attr_transform, 'pose0_position_0', 'mean')"
   ]
  },
  {
   "cell_type": "code",
   "execution_count": 88,
   "metadata": {},
   "outputs": [
    {
     "name": "stdout",
     "output_type": "stream",
     "text": [
      "pose0_position_0 2.492086167917114\n",
      "pose0_position_1 2.581892437098347\n",
      "pose1_position_0 2.5137275114073407\n",
      "pose1_position_1 2.503110457770942\n",
      "pose0_rotation_0 5.7197458065598557e-11\n",
      "pose0_rotation_1 8.963588319451569e-11\n",
      "pose0_rotation_2 6.533578847176194e-11\n",
      "pose0_rotation_3 8.447795226428613e-11\n",
      "pose1_rotation_0 7.102874697295647e-11\n",
      "pose1_rotation_1 8.077180611875379e-11\n",
      "pose1_rotation_2 0.12257853343453921\n",
      "pose1_rotation_3 0.12253608272782314\n"
     ]
    }
   ],
   "source": [
    "for attr in attributes:\n",
    "    print(attr, measure(df, per_attr_transform, attr, 'mean'))"
   ]
  },
  {
   "cell_type": "code",
   "execution_count": 89,
   "metadata": {},
   "outputs": [],
   "source": [
    "def per_task_transform(df: pd.DataFrame) -> pd.DataFrame:\n",
    "    df = df.copy()\n",
    "    loss_cols = [col for col in df.columns if 'unweigted_sample_loss' in col]\n",
    "    df['sum_loss'] = df[loss_cols].sum(axis=1)\n",
    "    return df.groupby('task')['sum_loss']"
   ]
  },
  {
   "cell_type": "code",
   "execution_count": 90,
   "metadata": {},
   "outputs": [
    {
     "name": "stdout",
     "output_type": "stream",
     "text": [
      "follow_order 9.301210948833823\n",
      "manipulate_old_neighbor 9.879311704775692\n",
      "novel_adj 10.558656291997433\n",
      "novel_noun 10.449915330833196\n",
      "pick_in_order_then_restore 10.049875231191516\n",
      "rearrange 12.152859887248278\n",
      "rearrange_then_restore 12.975440729337931\n",
      "rotate 10.369168365980354\n",
      "same_profile 10.324291684383153\n",
      "scene_understanding 10.444130369216204\n",
      "simple_manipulation 10.44868229367137\n",
      "sweep_without_exceeding 4.310659646831158\n",
      "twist 13.102902996159095\n"
     ]
    }
   ],
   "source": [
    "for task in tasks:\n",
    "    print(task, measure(\n",
    "        df, \n",
    "        per_task_transform, \n",
    "        task, \n",
    "        'mean'))"
   ]
  },
  {
   "cell_type": "code",
   "execution_count": null,
   "metadata": {},
   "outputs": [],
   "source": [
    "\n",
    "for task in attributes:\n",
    "    print(task, measure(\n",
    "        solution_df.loc[\n",
    "            (solution_df['unweigted_sample_loss__pose0_position_0'] < 3.9) &\n",
    "            (solution_df['unweigted_sample_loss__pose0_position_1'] < 4.6) &\n",
    "            (solution_df['unweigted_sample_loss__pose1_position_0'] < 3.9) &\n",
    "            (solution_df['unweigted_sample_loss__pose1_position_1'] < 4.6) &\n",
    "            (solution_df['unweigted_sample_loss__pose0_rotation_0'] < 3.9) &\n",
    "            (solution_df['unweigted_sample_loss__pose0_rotation_1'] < 3.9) &\n",
    "            (solution_df['unweigted_sample_loss__pose0_rotation_2'] < 3.9) &\n",
    "            (solution_df['unweigted_sample_loss__pose0_rotation_3'] < 3.9) &\n",
    "            (solution_df['unweigted_sample_loss__pose1_rotation_0'] < 3.9) &\n",
    "            (solution_df['unweigted_sample_loss__pose1_rotation_1'] < 3.9) &\n",
    "            (solution_df['unweigted_sample_loss__pose1_rotation_2'] < 3.9) &\n",
    "            (solution_df['unweigted_sample_loss__pose1_rotation_3'] < 3.9) \n",
    "        ], \n",
    "        per_attr_transform, \n",
    "        task, \n",
    "        'mean'))"
   ]
  },
  {
   "cell_type": "code",
   "execution_count": null,
   "metadata": {},
   "outputs": [],
   "source": [
    "measure(solution_df, per_task_transform, 'follow_order', 'mean')"
   ]
  },
  {
   "cell_type": "code",
   "execution_count": null,
   "metadata": {},
   "outputs": [],
   "source": [
    "follow_order = [measure(df, per_task_transform, 'follow_order', 'mean') for df in dfs]\n",
    "follow_order"
   ]
  },
  {
   "cell_type": "markdown",
   "metadata": {},
   "source": [
    "### Trace Accu"
   ]
  },
  {
   "cell_type": "code",
   "execution_count": 95,
   "metadata": {},
   "outputs": [],
   "source": [
    "import pandas as pd\n",
    "from functools import partial"
   ]
  },
  {
   "cell_type": "code",
   "execution_count": 185,
   "metadata": {},
   "outputs": [],
   "source": [
    "df = pd.read_csv('eval_200M_run.csv')"
   ]
  },
  {
   "cell_type": "code",
   "execution_count": 186,
   "metadata": {},
   "outputs": [],
   "source": [
    "\n",
    "def per_trace_accu(row: pd.Series, col: str, threshold: float) -> float:\n",
    "    correct_trace: List[int] = []\n",
    "    for t_step in range(10):\n",
    "        ground_truth = row.loc[f'action_trace__{t_step}__oracle_action__{col}']\n",
    "        prediction = row.loc[f'action_trace__{t_step}__policy_action__{col}']\n",
    "        if pd.isna(ground_truth) and pd.isna(prediction):\n",
    "            break\n",
    "        if pd.isna(ground_truth) or pd.isna(prediction):\n",
    "            correct_trace.append(0)\n",
    "            continue\n",
    "        \n",
    "        correct_trace.append(int(abs(ground_truth - prediction) <= threshold))\n",
    "    if len(correct_trace) < 0:\n",
    "        return 0\n",
    "    return sum(correct_trace) / len(correct_trace)\n",
    "\n",
    "        "
   ]
  },
  {
   "cell_type": "code",
   "execution_count": 187,
   "metadata": {},
   "outputs": [],
   "source": [
    "attributes = [\n",
    "    'pose0_position_0', 'pose0_position_1', 'pose1_position_0',\n",
    "    'pose1_position_1', 'pose0_rotation_0', 'pose0_rotation_1',\n",
    "    'pose0_rotation_2', 'pose0_rotation_3', 'pose1_rotation_0',\n",
    "    'pose1_rotation_1', 'pose1_rotation_2', 'pose1_rotation_3'\n",
    "]"
   ]
  },
  {
   "cell_type": "code",
   "execution_count": 188,
   "metadata": {},
   "outputs": [],
   "source": [
    "accus = {\n",
    "    attribute: df.apply(partial(per_trace_accu, col=attribute, threshold=0), axis=1).mean()\n",
    "    for attribute in attributes \n",
    "}"
   ]
  },
  {
   "cell_type": "code",
   "execution_count": 189,
   "metadata": {},
   "outputs": [
    {
     "data": {
      "text/plain": [
       "(0.3929182692307693, 0.6720702838827838)"
      ]
     },
     "execution_count": 189,
     "metadata": {},
     "output_type": "execute_result"
    }
   ],
   "source": [
    "position_accus = [accus[key] for key in accus if 'position' in key]\n",
    "rotation_accus = [accus[key] for key in accus if 'rotation' in key]\n",
    "sum(position_accus) / len(position_accus),  sum(rotation_accus) / len(rotation_accus),"
   ]
  },
  {
   "cell_type": "code",
   "execution_count": 32,
   "metadata": {},
   "outputs": [
    {
     "data": {
      "text/plain": [
       "(0.383246336996337, 0.682220695970696)"
      ]
     },
     "execution_count": 32,
     "metadata": {},
     "output_type": "execute_result"
    }
   ],
   "source": [
    "position_accus = [accus[key] for key in accus if 'position' in key]\n",
    "rotation_accus = [accus[key] for key in accus if 'rotation' in key]\n",
    "sum(position_accus) / len(position_accus),  sum(rotation_accus) / len(rotation_accus),"
   ]
  },
  {
   "cell_type": "code",
   "execution_count": 192,
   "metadata": {},
   "outputs": [
    {
     "name": "stdout",
     "output_type": "stream",
     "text": [
      "pose0_position_0 0.9218250915750916\n",
      "pose0_position_1 0.8348031135531137\n",
      "pose1_position_0 0.918587912087912\n",
      "pose1_position_1 0.8020137362637364\n",
      "pose0_rotation_0 0.9943589743589742\n",
      "pose0_rotation_1 0.9943589743589742\n",
      "pose0_rotation_2 0.9943589743589742\n",
      "pose0_rotation_3 0.9943589743589742\n",
      "pose1_rotation_0 0.9943589743589742\n",
      "pose1_rotation_1 0.9943589743589742\n",
      "pose1_rotation_2 0.40315018315018314\n",
      "pose1_rotation_3 0.2316886446886447\n"
     ]
    },
    {
     "data": {
      "text/plain": [
       "0.839851877289377"
      ]
     },
     "execution_count": 192,
     "metadata": {},
     "output_type": "execute_result"
    }
   ],
   "source": [
    "all_mean = 0\n",
    "for attribute in attributes:\n",
    "    res = df.apply(partial(per_trace_accu, col=attribute, threshold=3), axis=1).mean()\n",
    "    print(attribute, res)\n",
    "    all_mean += res\n",
    "all_mean /= len(attributes)\n",
    "all_mean"
   ]
  },
  {
   "cell_type": "code",
   "execution_count": 196,
   "metadata": {},
   "outputs": [
    {
     "data": {
      "text/plain": [
       "7.342410511942706"
      ]
     },
     "execution_count": 196,
     "metadata": {},
     "output_type": "execute_result"
    }
   ],
   "source": [
    "df['step_count'].sum() / df['total_time'].sum()"
   ]
  },
  {
   "cell_type": "code",
   "execution_count": 169,
   "metadata": {},
   "outputs": [
    {
     "data": {
      "text/plain": [
       "{'pick_in_order_then_restore': 0.077,\n",
       " 'twist': 0.077,\n",
       " 'sweep_without_exceeding': 0.077,\n",
       " 'rearrange_then_restore': 0.077,\n",
       " 'rearrange': 0.077,\n",
       " 'simple_manipulation': 0.077,\n",
       " 'manipulate_old_neighbor': 0.077,\n",
       " 'follow_order': 0.077,\n",
       " 'rotate': 0.077,\n",
       " 'same_profile': 0.077,\n",
       " 'novel_noun': 0.077,\n",
       " 'novel_adj': 0.077,\n",
       " 'scene_understanding': 0.077}"
      ]
     },
     "execution_count": 169,
     "metadata": {},
     "output_type": "execute_result"
    }
   ],
   "source": [
    "from functools import reduce\n",
    "from collections import Counter\n",
    "\n",
    "dfs = [pd.read_csv(f) for f in glob('logs\\\\*.csv')]\n",
    "def measure_task_freq(df: pd.DataFrame):\n",
    "    return df['task'].value_counts().to_dict()\n",
    "\n",
    "def sum_counts(dict_list):\n",
    "    return dict(reduce(lambda x, y: x + y, map(Counter, dict_list)))\n",
    "\n",
    "counts = dict(reduce(lambda x, y: x + y, map(Counter, map(measure_task_freq, dfs))))\n",
    "total_sum = sum(counts.values())\n",
    "frequency = {key: round(value / total_sum, 3) for key, value in counts.items()}\n",
    "frequency"
   ]
  },
  {
   "cell_type": "code",
   "execution_count": 126,
   "metadata": {},
   "outputs": [
    {
     "name": "stdout",
     "output_type": "stream",
     "text": [
      "39\n"
     ]
    }
   ],
   "source": [
    "with open('simple_shuffle.txt') as f:\n",
    "    results = list(filter(lambda x: x.strip() in ('True', 'False',), f.readlines()))\n",
    "    assert len(results) == 100\n",
    "    print(sum(map(\n",
    "        lambda x: 1 if x.strip() == 'True' else 0,\n",
    "        results)\n",
    "    ))"
   ]
  },
  {
   "cell_type": "code",
   "execution_count": 127,
   "metadata": {},
   "outputs": [
    {
     "data": {
      "text/html": [
       "<div>\n",
       "<style scoped>\n",
       "    .dataframe tbody tr th:only-of-type {\n",
       "        vertical-align: middle;\n",
       "    }\n",
       "\n",
       "    .dataframe tbody tr th {\n",
       "        vertical-align: top;\n",
       "    }\n",
       "\n",
       "    .dataframe thead th {\n",
       "        text-align: right;\n",
       "    }\n",
       "</style>\n",
       "<table border=\"1\" class=\"dataframe\">\n",
       "  <thead>\n",
       "    <tr style=\"text-align: right;\">\n",
       "      <th></th>\n",
       "      <th>simple task</th>\n",
       "      <th>hard task</th>\n",
       "    </tr>\n",
       "  </thead>\n",
       "  <tbody>\n",
       "    <tr>\n",
       "      <th>in paper</th>\n",
       "      <td>100.0</td>\n",
       "      <td>63.0</td>\n",
       "    </tr>\n",
       "    <tr>\n",
       "      <th>no change</th>\n",
       "      <td>100.0</td>\n",
       "      <td>60.0</td>\n",
       "    </tr>\n",
       "    <tr>\n",
       "      <th>reverse</th>\n",
       "      <td>15.0</td>\n",
       "      <td>0.0</td>\n",
       "    </tr>\n",
       "    <tr>\n",
       "      <th>shuffle</th>\n",
       "      <td>39.0</td>\n",
       "      <td>2.0</td>\n",
       "    </tr>\n",
       "  </tbody>\n",
       "</table>\n",
       "</div>"
      ],
      "text/plain": [
       "           simple task  hard task\n",
       "in paper         100.0       63.0\n",
       "no change        100.0       60.0\n",
       "reverse           15.0        0.0\n",
       "shuffle           39.0        2.0"
      ]
     },
     "execution_count": 127,
     "metadata": {},
     "output_type": "execute_result"
    }
   ],
   "source": [
    "data = {\n",
    "    \"in paper\": [100.0, 63.0],\n",
    "    \"no change\": [100.0, 60.0],\n",
    "    \"reverse\": [15.0, 0.0],\n",
    "    \"shuffle\": [39.0, 2.0]\n",
    "    \n",
    "}\n",
    "index = ['simple task', 'hard task']\n",
    "\n",
    "pd.DataFrame(data=data, index=index).T"
   ]
  },
  {
   "cell_type": "markdown",
   "metadata": {},
   "source": [
    "Var analysis of evaluation"
   ]
  },
  {
   "cell_type": "code",
   "execution_count": 244,
   "metadata": {},
   "outputs": [],
   "source": [
    "import pandas as pd\n",
    "from glob import glob\n",
    "from functools import reduce"
   ]
  },
  {
   "cell_type": "code",
   "execution_count": 245,
   "metadata": {},
   "outputs": [],
   "source": [
    "def calc_success_rate(df):\n",
    "    task_ids = {\n",
    "        \"visual_manipulation\": \"01\",\n",
    "        \"scene_understanding\": \"02\",\n",
    "        \"rotate\": \"03\",\n",
    "        \"rearrange\": \"04\",\n",
    "        \"rearrange_then_restore\": \"05\",\n",
    "        \"novel_adj\": \"06\",\n",
    "        \"novel_noun\": \"07\",\n",
    "        \"novel_adj_and_noun\": \"08\",\n",
    "        \"twist\": \"09\",\n",
    "        \"follow_motion\": \"10\",\n",
    "        \"follow_order\": \"11\",\n",
    "        \"sweep_without_exceeding\": \"12\",\n",
    "        \"sweep_without_touching\": \"13\",\n",
    "        \"same_texture\": \"14\",\n",
    "        \"same_shape\": \"15\",\n",
    "        \"manipulate_old_neighbor\": \"16\",\n",
    "        \"pick_in_order_then_restore\": \"17\"\n",
    "    }\n",
    "    return {\n",
    "        task_ids[group.iloc[0]['task']]: round(float(group[['sucess']].mean().iloc[0] * 100), 1)\n",
    "            for _, group in df.groupby('task')\n",
    "    }"
   ]
  },
  {
   "cell_type": "code",
   "execution_count": 246,
   "metadata": {},
   "outputs": [],
   "source": [
    "dfs = [\n",
    "    pd.read_csv(path) for path in glob(\"remote_eval\\\\result_per_seed\\\\*.csv\")\n",
    "]"
   ]
  },
  {
   "cell_type": "code",
   "execution_count": 247,
   "metadata": {},
   "outputs": [
    {
     "data": {
      "text/plain": [
       "Text(0.5, 0, 'task')"
      ]
     },
     "execution_count": 247,
     "metadata": {},
     "output_type": "execute_result"
    },
    {
     "data": {
      "image/png": "[encoded data removed]",
      "text/plain": [
       "<Figure size 640x480 with 1 Axes>"
      ]
     },
     "metadata": {},
     "output_type": "display_data"
    }
   ],
   "source": [
    "data = reduce(\n",
    "    lambda x, y: {k: x[k] + y[k] for k in x.keys()},\n",
    "    map(\n",
    "        lambda x: {k: [v] for k, v in x.items()},\n",
    "        map(\n",
    "            lambda x: {**x, 'avg': round(sum(x.values()) / len(x), 2)},\n",
    "            map(\n",
    "                calc_success_rate, dfs\n",
    "            )\n",
    "        )\n",
    "    ),\n",
    "    {k: list() for k in list(calc_success_rate(dfs[0]).keys()) + ['avg']}\n",
    ")\n",
    "result = pd.DataFrame(data).reindex(sorted(data.keys()), axis=1)\n",
    "ax = result.boxplot()\n",
    "ax.set_ylabel('success rate')\n",
    "ax.set_xlabel('task')"
   ]
  },
  {
   "cell_type": "code",
   "execution_count": 249,
   "metadata": {},
   "outputs": [
    {
     "data": {
      "text/html": [
       "<div>\n",
       "<style scoped>\n",
       "    .dataframe tbody tr th:only-of-type {\n",
       "        vertical-align: middle;\n",
       "    }\n",
       "\n",
       "    .dataframe tbody tr th {\n",
       "        vertical-align: top;\n",
       "    }\n",
       "\n",
       "    .dataframe thead th {\n",
       "        text-align: right;\n",
       "    }\n",
       "</style>\n",
       "<table border=\"1\" class=\"dataframe\">\n",
       "  <thead>\n",
       "    <tr style=\"text-align: right;\">\n",
       "      <th></th>\n",
       "      <th>01</th>\n",
       "      <th>02</th>\n",
       "      <th>03</th>\n",
       "      <th>04</th>\n",
       "      <th>05</th>\n",
       "      <th>06</th>\n",
       "      <th>07</th>\n",
       "      <th>09</th>\n",
       "      <th>11</th>\n",
       "      <th>12</th>\n",
       "      <th>15</th>\n",
       "      <th>16</th>\n",
       "      <th>17</th>\n",
       "      <th>avg</th>\n",
       "    </tr>\n",
       "  </thead>\n",
       "  <tbody>\n",
       "    <tr>\n",
       "      <th>count</th>\n",
       "      <td>14.0</td>\n",
       "      <td>14.0</td>\n",
       "      <td>14.000000</td>\n",
       "      <td>14.000000</td>\n",
       "      <td>14.000000</td>\n",
       "      <td>14.000000</td>\n",
       "      <td>14.000000</td>\n",
       "      <td>14.000000</td>\n",
       "      <td>14.000000</td>\n",
       "      <td>14.000000</td>\n",
       "      <td>14.000000</td>\n",
       "      <td>14.000000</td>\n",
       "      <td>14.000000</td>\n",
       "      <td>14.000000</td>\n",
       "    </tr>\n",
       "    <tr>\n",
       "      <th>mean</th>\n",
       "      <td>100.0</td>\n",
       "      <td>100.0</td>\n",
       "      <td>99.714286</td>\n",
       "      <td>60.642857</td>\n",
       "      <td>39.928571</td>\n",
       "      <td>99.857143</td>\n",
       "      <td>99.785714</td>\n",
       "      <td>15.714286</td>\n",
       "      <td>64.142857</td>\n",
       "      <td>72.214286</td>\n",
       "      <td>96.071429</td>\n",
       "      <td>45.357143</td>\n",
       "      <td>67.642857</td>\n",
       "      <td>73.927143</td>\n",
       "    </tr>\n",
       "    <tr>\n",
       "      <th>std</th>\n",
       "      <td>0.0</td>\n",
       "      <td>0.0</td>\n",
       "      <td>0.468807</td>\n",
       "      <td>4.970794</td>\n",
       "      <td>3.950935</td>\n",
       "      <td>0.363137</td>\n",
       "      <td>0.425815</td>\n",
       "      <td>3.148347</td>\n",
       "      <td>3.634390</td>\n",
       "      <td>3.598687</td>\n",
       "      <td>1.859044</td>\n",
       "      <td>5.001648</td>\n",
       "      <td>5.241948</td>\n",
       "      <td>0.972186</td>\n",
       "    </tr>\n",
       "    <tr>\n",
       "      <th>min</th>\n",
       "      <td>100.0</td>\n",
       "      <td>100.0</td>\n",
       "      <td>99.000000</td>\n",
       "      <td>54.000000</td>\n",
       "      <td>31.000000</td>\n",
       "      <td>99.000000</td>\n",
       "      <td>99.000000</td>\n",
       "      <td>10.000000</td>\n",
       "      <td>59.000000</td>\n",
       "      <td>67.000000</td>\n",
       "      <td>93.000000</td>\n",
       "      <td>35.000000</td>\n",
       "      <td>60.000000</td>\n",
       "      <td>72.620000</td>\n",
       "    </tr>\n",
       "    <tr>\n",
       "      <th>25%</th>\n",
       "      <td>100.0</td>\n",
       "      <td>100.0</td>\n",
       "      <td>99.250000</td>\n",
       "      <td>56.750000</td>\n",
       "      <td>38.000000</td>\n",
       "      <td>100.000000</td>\n",
       "      <td>100.000000</td>\n",
       "      <td>14.000000</td>\n",
       "      <td>62.000000</td>\n",
       "      <td>69.500000</td>\n",
       "      <td>95.000000</td>\n",
       "      <td>42.000000</td>\n",
       "      <td>64.000000</td>\n",
       "      <td>73.207500</td>\n",
       "    </tr>\n",
       "    <tr>\n",
       "      <th>50%</th>\n",
       "      <td>100.0</td>\n",
       "      <td>100.0</td>\n",
       "      <td>100.000000</td>\n",
       "      <td>60.000000</td>\n",
       "      <td>39.500000</td>\n",
       "      <td>100.000000</td>\n",
       "      <td>100.000000</td>\n",
       "      <td>15.500000</td>\n",
       "      <td>63.500000</td>\n",
       "      <td>71.000000</td>\n",
       "      <td>96.500000</td>\n",
       "      <td>46.000000</td>\n",
       "      <td>67.500000</td>\n",
       "      <td>73.690000</td>\n",
       "    </tr>\n",
       "    <tr>\n",
       "      <th>75%</th>\n",
       "      <td>100.0</td>\n",
       "      <td>100.0</td>\n",
       "      <td>100.000000</td>\n",
       "      <td>63.500000</td>\n",
       "      <td>42.000000</td>\n",
       "      <td>100.000000</td>\n",
       "      <td>100.000000</td>\n",
       "      <td>17.000000</td>\n",
       "      <td>65.500000</td>\n",
       "      <td>75.000000</td>\n",
       "      <td>97.000000</td>\n",
       "      <td>48.750000</td>\n",
       "      <td>72.250000</td>\n",
       "      <td>74.575000</td>\n",
       "    </tr>\n",
       "    <tr>\n",
       "      <th>max</th>\n",
       "      <td>100.0</td>\n",
       "      <td>100.0</td>\n",
       "      <td>100.000000</td>\n",
       "      <td>70.000000</td>\n",
       "      <td>46.000000</td>\n",
       "      <td>100.000000</td>\n",
       "      <td>100.000000</td>\n",
       "      <td>21.000000</td>\n",
       "      <td>73.000000</td>\n",
       "      <td>78.000000</td>\n",
       "      <td>99.000000</td>\n",
       "      <td>52.000000</td>\n",
       "      <td>75.000000</td>\n",
       "      <td>75.920000</td>\n",
       "    </tr>\n",
       "  </tbody>\n",
       "</table>\n",
       "</div>"
      ],
      "text/plain": [
       "          01     02          03         04         05          06          07  \\\n",
       "count   14.0   14.0   14.000000  14.000000  14.000000   14.000000   14.000000   \n",
       "mean   100.0  100.0   99.714286  60.642857  39.928571   99.857143   99.785714   \n",
       "std      0.0    0.0    0.468807   4.970794   3.950935    0.363137    0.425815   \n",
       "min    100.0  100.0   99.000000  54.000000  31.000000   99.000000   99.000000   \n",
       "25%    100.0  100.0   99.250000  56.750000  38.000000  100.000000  100.000000   \n",
       "50%    100.0  100.0  100.000000  60.000000  39.500000  100.000000  100.000000   \n",
       "75%    100.0  100.0  100.000000  63.500000  42.000000  100.000000  100.000000   \n",
       "max    100.0  100.0  100.000000  70.000000  46.000000  100.000000  100.000000   \n",
       "\n",
       "              09         11         12         15         16         17  \\\n",
       "count  14.000000  14.000000  14.000000  14.000000  14.000000  14.000000   \n",
       "mean   15.714286  64.142857  72.214286  96.071429  45.357143  67.642857   \n",
       "std     3.148347   3.634390   3.598687   1.859044   5.001648   5.241948   \n",
       "min    10.000000  59.000000  67.000000  93.000000  35.000000  60.000000   \n",
       "25%    14.000000  62.000000  69.500000  95.000000  42.000000  64.000000   \n",
       "50%    15.500000  63.500000  71.000000  96.500000  46.000000  67.500000   \n",
       "75%    17.000000  65.500000  75.000000  97.000000  48.750000  72.250000   \n",
       "max    21.000000  73.000000  78.000000  99.000000  52.000000  75.000000   \n",
       "\n",
       "             avg  \n",
       "count  14.000000  \n",
       "mean   73.927143  \n",
       "std     0.972186  \n",
       "min    72.620000  \n",
       "25%    73.207500  \n",
       "50%    73.690000  \n",
       "75%    74.575000  \n",
       "max    75.920000  "
      ]
     },
     "execution_count": 249,
     "metadata": {},
     "output_type": "execute_result"
    }
   ],
   "source": [
    "result.describe()"
   ]
  }
 ],
 "metadata": {
  "kernelspec": {
   "display_name": "vima_reproduce",
   "language": "python",
   "name": "python3"
  },
  "language_info": {
   "codemirror_mode": {
    "name": "ipython",
    "version": 3
   },
   "file_extension": ".py",
   "mimetype": "text/x-python",
   "name": "python",
   "nbconvert_exporter": "python",
   "pygments_lexer": "ipython3",
   "version": "3.9.18"
  }
 },
 "nbformat": 4,
 "nbformat_minor": 2
}
